{
 "cells": [
  {
   "cell_type": "code",
   "execution_count": 1,
   "metadata": {
    "collapsed": true
   },
   "outputs": [],
   "source": [
    "import pandas as pd\n",
    "import numpy as np\n",
    "from sklearn.cluster import KMeans\n",
    "from sklearn.metrics import silhouette_score\n",
    "from sklearn.preprocessing import LabelEncoder, RobustScaler"
   ]
  },
  {
   "cell_type": "code",
   "execution_count": 2,
   "metadata": {
    "collapsed": true
   },
   "outputs": [],
   "source": [
    "## load data\n",
    "products = pd.read_csv('cproducts.csv')\n",
    "tender = pd.read_csv('ctender.csv')"
   ]
  },
  {
   "cell_type": "code",
   "execution_count": 3,
   "metadata": {},
   "outputs": [
    {
     "name": "stdout",
     "output_type": "stream",
     "text": [
      "product file has 11972 rows and 16 columns\n",
      "tender file has 149752 rows and 13 columns\n"
     ]
    }
   ],
   "source": [
    "## check shape of files\n",
    "print('product file has {} rows and {} columns'.format(products.shape[0], products.shape[1]))\n",
    "print('tender file has {} rows and {} columns'.format(tender.shape[0], tender.shape[1]))"
   ]
  },
  {
   "cell_type": "code",
   "execution_count": 4,
   "metadata": {},
   "outputs": [
    {
     "data": {
      "text/html": [
       "<div>\n",
       "<style>\n",
       "    .dataframe thead tr:only-child th {\n",
       "        text-align: right;\n",
       "    }\n",
       "\n",
       "    .dataframe thead th {\n",
       "        text-align: left;\n",
       "    }\n",
       "\n",
       "    .dataframe tbody tr th {\n",
       "        vertical-align: top;\n",
       "    }\n",
       "</style>\n",
       "<table border=\"1\" class=\"dataframe\">\n",
       "  <thead>\n",
       "    <tr style=\"text-align: right;\">\n",
       "      <th></th>\n",
       "      <th>customerID</th>\n",
       "      <th>DOB</th>\n",
       "      <th>Gender</th>\n",
       "      <th>State</th>\n",
       "      <th>PinCode</th>\n",
       "      <th>transactionDate</th>\n",
       "      <th>store_code</th>\n",
       "      <th>store_description</th>\n",
       "      <th>till_no</th>\n",
       "      <th>transaction_number_by_till</th>\n",
       "      <th>promo_code</th>\n",
       "      <th>promotion_description</th>\n",
       "      <th>product_code</th>\n",
       "      <th>product_description</th>\n",
       "      <th>sale_price_after_promo</th>\n",
       "      <th>discountUsed</th>\n",
       "    </tr>\n",
       "  </thead>\n",
       "  <tbody>\n",
       "    <tr>\n",
       "      <th>0</th>\n",
       "      <td>BBID_20482</td>\n",
       "      <td>1975-10-20</td>\n",
       "      <td>male</td>\n",
       "      <td>MADHYA PRADESH</td>\n",
       "      <td>453441.0</td>\n",
       "      <td>2016-05-01</td>\n",
       "      <td>2655</td>\n",
       "      <td>BB-INDORE-MALHAR MEGA MALL</td>\n",
       "      <td>2</td>\n",
       "      <td>85246</td>\n",
       "      <td>NONPROMO</td>\n",
       "      <td>NaN</td>\n",
       "      <td>1000446431</td>\n",
       "      <td>PATANJALI CHOCOS 125g</td>\n",
       "      <td>55.00</td>\n",
       "      <td>Payback</td>\n",
       "    </tr>\n",
       "    <tr>\n",
       "      <th>1</th>\n",
       "      <td>BBID_20485</td>\n",
       "      <td>1955-07-21</td>\n",
       "      <td>female</td>\n",
       "      <td>NaN</td>\n",
       "      <td>999999.0</td>\n",
       "      <td>2017-03-09</td>\n",
       "      <td>2655</td>\n",
       "      <td>BB-INDORE-MALHAR MEGA MALL</td>\n",
       "      <td>8</td>\n",
       "      <td>78829</td>\n",
       "      <td>NONPROMO</td>\n",
       "      <td>NaN</td>\n",
       "      <td>1000010431</td>\n",
       "      <td>SOO FRESH ROLLS HOT DOG 4P</td>\n",
       "      <td>30.00</td>\n",
       "      <td>Payback</td>\n",
       "    </tr>\n",
       "    <tr>\n",
       "      <th>2</th>\n",
       "      <td>BBID_20498</td>\n",
       "      <td>1981-03-19</td>\n",
       "      <td>female</td>\n",
       "      <td>MAHARASHTRA</td>\n",
       "      <td>400064.0</td>\n",
       "      <td>2015-08-12</td>\n",
       "      <td>2655</td>\n",
       "      <td>BB-INDORE-MALHAR MEGA MALL</td>\n",
       "      <td>13</td>\n",
       "      <td>1064</td>\n",
       "      <td>0000971754</td>\n",
       "      <td>AD 399 FLAT LADIES JEANS  FASHION EXC</td>\n",
       "      <td>1000077851005</td>\n",
       "      <td>DLJ-0010-BSF-2-CJ-FL, 34, BLACK</td>\n",
       "      <td>418.95</td>\n",
       "      <td>Payback</td>\n",
       "    </tr>\n",
       "    <tr>\n",
       "      <th>3</th>\n",
       "      <td>BBID_20499</td>\n",
       "      <td>1986-05-10</td>\n",
       "      <td>male</td>\n",
       "      <td>MAHARASHTRA</td>\n",
       "      <td>400099.0</td>\n",
       "      <td>2016-12-18</td>\n",
       "      <td>2615</td>\n",
       "      <td>BB-AMRITSAR-TRILIUM MALL</td>\n",
       "      <td>14</td>\n",
       "      <td>51080</td>\n",
       "      <td>NONPROMO</td>\n",
       "      <td>NaN</td>\n",
       "      <td>1000443231</td>\n",
       "      <td>PATANJALI TOMATO KETCHUP BT 500g</td>\n",
       "      <td>70.00</td>\n",
       "      <td>Payback</td>\n",
       "    </tr>\n",
       "    <tr>\n",
       "      <th>4</th>\n",
       "      <td>BBID_204110</td>\n",
       "      <td>1988-02-29</td>\n",
       "      <td>male</td>\n",
       "      <td>MADHYA PRADESH</td>\n",
       "      <td>474001.0</td>\n",
       "      <td>2015-12-31</td>\n",
       "      <td>2655</td>\n",
       "      <td>BB-INDORE-MALHAR MEGA MALL</td>\n",
       "      <td>9</td>\n",
       "      <td>21911</td>\n",
       "      <td>0000974126</td>\n",
       "      <td>NMP 5% OFF CONCEPT DISCOUNT 2655</td>\n",
       "      <td>300481741</td>\n",
       "      <td>MAGGI NDL MERI MASALA PP 70g</td>\n",
       "      <td>34.20</td>\n",
       "      <td>Payback</td>\n",
       "    </tr>\n",
       "  </tbody>\n",
       "</table>\n",
       "</div>"
      ],
      "text/plain": [
       "    customerID         DOB  Gender           State   PinCode transactionDate  \\\n",
       "0   BBID_20482  1975-10-20    male  MADHYA PRADESH  453441.0      2016-05-01   \n",
       "1   BBID_20485  1955-07-21  female             NaN  999999.0      2017-03-09   \n",
       "2   BBID_20498  1981-03-19  female     MAHARASHTRA  400064.0      2015-08-12   \n",
       "3   BBID_20499  1986-05-10    male     MAHARASHTRA  400099.0      2016-12-18   \n",
       "4  BBID_204110  1988-02-29    male  MADHYA PRADESH  474001.0      2015-12-31   \n",
       "\n",
       "   store_code           store_description  till_no  \\\n",
       "0        2655  BB-INDORE-MALHAR MEGA MALL        2   \n",
       "1        2655  BB-INDORE-MALHAR MEGA MALL        8   \n",
       "2        2655  BB-INDORE-MALHAR MEGA MALL       13   \n",
       "3        2615    BB-AMRITSAR-TRILIUM MALL       14   \n",
       "4        2655  BB-INDORE-MALHAR MEGA MALL        9   \n",
       "\n",
       "   transaction_number_by_till  promo_code  \\\n",
       "0                       85246    NONPROMO   \n",
       "1                       78829    NONPROMO   \n",
       "2                        1064  0000971754   \n",
       "3                       51080    NONPROMO   \n",
       "4                       21911  0000974126   \n",
       "\n",
       "                   promotion_description   product_code  \\\n",
       "0                                    NaN     1000446431   \n",
       "1                                    NaN     1000010431   \n",
       "2  AD 399 FLAT LADIES JEANS  FASHION EXC  1000077851005   \n",
       "3                                    NaN     1000443231   \n",
       "4       NMP 5% OFF CONCEPT DISCOUNT 2655      300481741   \n",
       "\n",
       "                product_description  sale_price_after_promo discountUsed  \n",
       "0             PATANJALI CHOCOS 125g                   55.00      Payback  \n",
       "1        SOO FRESH ROLLS HOT DOG 4P                   30.00      Payback  \n",
       "2   DLJ-0010-BSF-2-CJ-FL, 34, BLACK                  418.95      Payback  \n",
       "3  PATANJALI TOMATO KETCHUP BT 500g                   70.00      Payback  \n",
       "4      MAGGI NDL MERI MASALA PP 70g                   34.20      Payback  "
      ]
     },
     "execution_count": 4,
     "metadata": {},
     "output_type": "execute_result"
    }
   ],
   "source": [
    "# this data file contains product level information of transactions made by customers\n",
    "products.head()"
   ]
  },
  {
   "cell_type": "code",
   "execution_count": 5,
   "metadata": {},
   "outputs": [
    {
     "data": {
      "text/html": [
       "<div>\n",
       "<style>\n",
       "    .dataframe thead tr:only-child th {\n",
       "        text-align: right;\n",
       "    }\n",
       "\n",
       "    .dataframe thead th {\n",
       "        text-align: left;\n",
       "    }\n",
       "\n",
       "    .dataframe tbody tr th {\n",
       "        vertical-align: top;\n",
       "    }\n",
       "</style>\n",
       "<table border=\"1\" class=\"dataframe\">\n",
       "  <thead>\n",
       "    <tr style=\"text-align: right;\">\n",
       "      <th></th>\n",
       "      <th>customerID</th>\n",
       "      <th>DOB</th>\n",
       "      <th>Gender</th>\n",
       "      <th>State</th>\n",
       "      <th>PinCode</th>\n",
       "      <th>transactionDate</th>\n",
       "      <th>store_code</th>\n",
       "      <th>store_description</th>\n",
       "      <th>till_no</th>\n",
       "      <th>tender_type</th>\n",
       "      <th>transaction_number_by_till</th>\n",
       "      <th>payment_amount_by_tender</th>\n",
       "      <th>PaymentUsed</th>\n",
       "    </tr>\n",
       "  </thead>\n",
       "  <tbody>\n",
       "    <tr>\n",
       "      <th>0</th>\n",
       "      <td>BBID_2044</td>\n",
       "      <td>1984-04-02</td>\n",
       "      <td>male</td>\n",
       "      <td>NaN</td>\n",
       "      <td>626125.0</td>\n",
       "      <td>2015-09-03</td>\n",
       "      <td>4986</td>\n",
       "      <td>BB-MADURAI-KOCHADAI VILLAGE</td>\n",
       "      <td>22</td>\n",
       "      <td>GVOWN</td>\n",
       "      <td>9208</td>\n",
       "      <td>1000.00</td>\n",
       "      <td>GiftVoucher</td>\n",
       "    </tr>\n",
       "    <tr>\n",
       "      <th>1</th>\n",
       "      <td>BBID_2044</td>\n",
       "      <td>1984-04-02</td>\n",
       "      <td>male</td>\n",
       "      <td>NaN</td>\n",
       "      <td>626125.0</td>\n",
       "      <td>2015-09-03</td>\n",
       "      <td>4986</td>\n",
       "      <td>BB-MADURAI-KOCHADAI VILLAGE</td>\n",
       "      <td>22</td>\n",
       "      <td>CASH</td>\n",
       "      <td>9208</td>\n",
       "      <td>10.46</td>\n",
       "      <td>CASH</td>\n",
       "    </tr>\n",
       "    <tr>\n",
       "      <th>2</th>\n",
       "      <td>BBID_2044</td>\n",
       "      <td>1984-04-02</td>\n",
       "      <td>male</td>\n",
       "      <td>NaN</td>\n",
       "      <td>626125.0</td>\n",
       "      <td>2016-04-17</td>\n",
       "      <td>4986</td>\n",
       "      <td>BB-MADURAI-KOCHADAI VILLAGE</td>\n",
       "      <td>19</td>\n",
       "      <td>EDCAXIS</td>\n",
       "      <td>90269</td>\n",
       "      <td>677.28</td>\n",
       "      <td>AXIS</td>\n",
       "    </tr>\n",
       "    <tr>\n",
       "      <th>3</th>\n",
       "      <td>BBID_2044</td>\n",
       "      <td>1984-04-02</td>\n",
       "      <td>male</td>\n",
       "      <td>NaN</td>\n",
       "      <td>626125.0</td>\n",
       "      <td>2016-04-17</td>\n",
       "      <td>4986</td>\n",
       "      <td>BB-MADURAI-KOCHADAI VILLAGE</td>\n",
       "      <td>19</td>\n",
       "      <td>MOBI</td>\n",
       "      <td>90268</td>\n",
       "      <td>1042.00</td>\n",
       "      <td>One MobiKwik Systems</td>\n",
       "    </tr>\n",
       "    <tr>\n",
       "      <th>4</th>\n",
       "      <td>BBID_2044</td>\n",
       "      <td>1984-04-02</td>\n",
       "      <td>male</td>\n",
       "      <td>NaN</td>\n",
       "      <td>626125.0</td>\n",
       "      <td>2016-04-17</td>\n",
       "      <td>4986</td>\n",
       "      <td>BB-MADURAI-KOCHADAI VILLAGE</td>\n",
       "      <td>19</td>\n",
       "      <td>MOBI</td>\n",
       "      <td>90269</td>\n",
       "      <td>1000.00</td>\n",
       "      <td>One MobiKwik Systems</td>\n",
       "    </tr>\n",
       "  </tbody>\n",
       "</table>\n",
       "</div>"
      ],
      "text/plain": [
       "  customerID         DOB Gender State   PinCode transactionDate  store_code  \\\n",
       "0  BBID_2044  1984-04-02   male   NaN  626125.0      2015-09-03        4986   \n",
       "1  BBID_2044  1984-04-02   male   NaN  626125.0      2015-09-03        4986   \n",
       "2  BBID_2044  1984-04-02   male   NaN  626125.0      2016-04-17        4986   \n",
       "3  BBID_2044  1984-04-02   male   NaN  626125.0      2016-04-17        4986   \n",
       "4  BBID_2044  1984-04-02   male   NaN  626125.0      2016-04-17        4986   \n",
       "\n",
       "             store_description  till_no tender_type  \\\n",
       "0  BB-MADURAI-KOCHADAI VILLAGE       22       GVOWN   \n",
       "1  BB-MADURAI-KOCHADAI VILLAGE       22        CASH   \n",
       "2  BB-MADURAI-KOCHADAI VILLAGE       19     EDCAXIS   \n",
       "3  BB-MADURAI-KOCHADAI VILLAGE       19        MOBI   \n",
       "4  BB-MADURAI-KOCHADAI VILLAGE       19        MOBI   \n",
       "\n",
       "   transaction_number_by_till  payment_amount_by_tender           PaymentUsed  \n",
       "0                        9208                   1000.00           GiftVoucher  \n",
       "1                        9208                     10.46                  CASH  \n",
       "2                       90269                    677.28                  AXIS  \n",
       "3                       90268                   1042.00  One MobiKwik Systems  \n",
       "4                       90269                   1000.00  One MobiKwik Systems  "
      ]
     },
     "execution_count": 5,
     "metadata": {},
     "output_type": "execute_result"
    }
   ],
   "source": [
    "# this file contains payment mode information used by customers in their transactions\n",
    "tender.head()"
   ]
  },
  {
   "cell_type": "markdown",
   "metadata": {},
   "source": [
    "### Note:\n",
    "Let's build a simple model using products file only. We have to create clusters of customers at store level. We'll use k-means algorithm. We'll set value of k as 3 (you can tune and find optimal value)\n",
    "\n",
    "Clustering process is as follows (work-wise):\n",
    "1. Convert the data into numeric / float.\n",
    "2. Since clustering using distance measure, don't forget to scale the data. \n",
    "3. Create a matrix /array which will be feeded to the algorithm.\n",
    "4. Run function.\n",
    "\n",
    "We'll ensure that sequence of data remains unaffected. Let's see how this is done."
   ]
  },
  {
   "cell_type": "code",
   "execution_count": 6,
   "metadata": {
    "collapsed": true
   },
   "outputs": [],
   "source": [
    "## fill missing values\n",
    "\n",
    "products['promotion_description'].fillna('no_promo', inplace=True)\n",
    "products['Gender'].fillna('no_gender', inplace=True)\n",
    "products['State'].fillna('no_state', inplace=True)\n",
    "products['PinCode'].fillna(-1, inplace=True)\n",
    "products['DOB'].fillna(\"1\", inplace=True)"
   ]
  },
  {
   "cell_type": "code",
   "execution_count": 7,
   "metadata": {
    "collapsed": true
   },
   "outputs": [],
   "source": [
    "## convert data into numeric / float\n",
    "\n",
    "for c in products.columns:\n",
    "    lbl = LabelEncoder()\n",
    "    if products[c].dtype == 'object' and c not in ['store_description','customerID','transactionDate']:\n",
    "        products[c] = lbl.fit_transform(products[c])"
   ]
  },
  {
   "cell_type": "code",
   "execution_count": 8,
   "metadata": {},
   "outputs": [
    {
     "name": "stderr",
     "output_type": "stream",
     "text": [
      "C:\\Users\\I345351\\AppData\\Local\\Continuum\\Anaconda2\\lib\\site-packages\\ipykernel_launcher.py:14: SettingWithCopyWarning: \n",
      "A value is trying to be set on a copy of a slice from a DataFrame\n",
      "\n",
      "See the caveats in the documentation: http://pandas.pydata.org/pandas-docs/stable/indexing.html#indexing-view-versus-copy\n",
      "  \n"
     ]
    }
   ],
   "source": [
    "## scaling, creating matrix and running k-means\n",
    "\n",
    "stores = list(set(products['store_code']))\n",
    "\n",
    "cluster_labels = []\n",
    "cluster_store = []\n",
    "cluster_data = []\n",
    "cluster_customers = []\n",
    "cluster_score = []\n",
    "\n",
    "for x in stores:\n",
    "    cld = products[products['store_code'] == x]\n",
    "    cluster_customers.append(cld['customerID'])\n",
    "    cld.drop(['store_code','customerID','transactionDate','store_description'], axis=1, inplace=True)\n",
    "    \n",
    "    rbs = RobustScaler()\n",
    "    cld2 = rbs.fit_transform(cld)\n",
    "    \n",
    "    n_customers = products['customerID'].loc[products['store_code'] == x].count()\n",
    "    if n_customers < 2000:\n",
    "        n_clusters = 4\n",
    "    else:\n",
    "        n_clusters = 4\n",
    "    km1 = KMeans(n_clusters=n_clusters)\n",
    "    km2 = km1.fit(cld2)\n",
    "    label = km2.predict(cld2)\n",
    "    \n",
    "    s_score = silhouette_score(cld2, label)\n",
    "    cluster_score.append(s_score)\n",
    "    \n",
    "    cluster_labels.append(label)\n",
    "    cluster_store.append(np.repeat(x, cld.shape[0]))\n",
    "    cluster_data.append(cld2)"
   ]
  },
  {
   "cell_type": "code",
   "execution_count": 9,
   "metadata": {},
   "outputs": [
    {
     "data": {
      "text/plain": [
       "0.9337314974847899"
      ]
     },
     "execution_count": 9,
     "metadata": {},
     "output_type": "execute_result"
    }
   ],
   "source": [
    "# check mean score per store\n",
    "np.mean(cluster_score)"
   ]
  },
  {
   "cell_type": "code",
   "execution_count": 10,
   "metadata": {
    "collapsed": true
   },
   "outputs": [],
   "source": [
    "## merge list into ndarray\n",
    "cluster_data = np.concatenate(cluster_data)"
   ]
  },
  {
   "cell_type": "code",
   "execution_count": 11,
   "metadata": {},
   "outputs": [
    {
     "data": {
      "text/plain": [
       "(11972L, 12L)"
      ]
     },
     "execution_count": 11,
     "metadata": {},
     "output_type": "execute_result"
    }
   ],
   "source": [
    "## check if the array has same rows as products file - Yes!\n",
    "cluster_data.shape"
   ]
  },
  {
   "cell_type": "code",
   "execution_count": 12,
   "metadata": {
    "collapsed": true
   },
   "outputs": [],
   "source": [
    "## convert nested lists as 1d array\n",
    "cluster_customers = np.concatenate(cluster_customers)\n",
    "cluster_store = np.concatenate(cluster_store)\n",
    "cluster_labels = np.concatenate(cluster_labels)"
   ]
  },
  {
   "cell_type": "code",
   "execution_count": 13,
   "metadata": {
    "collapsed": true
   },
   "outputs": [],
   "source": [
    "## create submission files\n",
    "sub1 = pd.DataFrame({'customerID':cluster_customers, 'store_code':cluster_store, 'cluster':cluster_labels})"
   ]
  },
  {
   "cell_type": "code",
   "execution_count": 14,
   "metadata": {
    "collapsed": true
   },
   "outputs": [],
   "source": [
    "np.savetxt('subOne_18.txt', cluster_data)\n",
    "sub1.to_csv('subtwo_18.csv', index=False)"
   ]
  },
  {
   "cell_type": "markdown",
   "metadata": {},
   "source": [
    "#### Next step - go to the folder in your laptop, where these files are saved, zip them and upload on the challenge page and get score."
   ]
  },
  {
   "cell_type": "code",
   "execution_count": 75,
   "metadata": {},
   "outputs": [
    {
     "data": {
      "text/plain": [
       "store_code\n",
       "2615     723\n",
       "2655    2767\n",
       "2906    1257\n",
       "3692     574\n",
       "4796    2768\n",
       "4843    2135\n",
       "4986    1748\n",
       "Name: customerID, dtype: int64"
      ]
     },
     "execution_count": 75,
     "metadata": {},
     "output_type": "execute_result"
    }
   ],
   "source": [
    "products.groupby(['store_code'])['customerID'].count()"
   ]
  },
  {
   "cell_type": "code",
   "execution_count": 104,
   "metadata": {},
   "outputs": [
    {
     "data": {
      "text/plain": [
       "customerID                       0\n",
       "DOB                            319\n",
       "Gender                        1028\n",
       "State                         1583\n",
       "PinCode                        817\n",
       "transactionDate                  0\n",
       "store_code                       0\n",
       "store_description                0\n",
       "till_no                          0\n",
       "transaction_number_by_till       0\n",
       "promo_code                       0\n",
       "promotion_description         8510\n",
       "product_code                     0\n",
       "product_description              0\n",
       "sale_price_after_promo           0\n",
       "discountUsed                     0\n",
       "dtype: int64"
      ]
     },
     "execution_count": 104,
     "metadata": {},
     "output_type": "execute_result"
    }
   ],
   "source": [
    "products.isnull().sum()"
   ]
  },
  {
   "cell_type": "code",
   "execution_count": 130,
   "metadata": {},
   "outputs": [
    {
     "data": {
      "text/plain": [
       "customerID                        0\n",
       "DOB                            4596\n",
       "Gender                         6663\n",
       "State                         11650\n",
       "PinCode                        5564\n",
       "transactionDate                   0\n",
       "store_code                        0\n",
       "store_description                 0\n",
       "till_no                           0\n",
       "tender_type                       0\n",
       "transaction_number_by_till        0\n",
       "payment_amount_by_tender          0\n",
       "PaymentUsed                    1223\n",
       "dtype: int64"
      ]
     },
     "execution_count": 130,
     "metadata": {},
     "output_type": "execute_result"
    }
   ],
   "source": [
    "tender.isnull().sum()"
   ]
  },
  {
   "cell_type": "code",
   "execution_count": 140,
   "metadata": {
    "collapsed": true
   },
   "outputs": [],
   "source": [
    "products_tender = products.merge(tender, on=['customerID', 'transactionDate', 'store_code', 'till_no', 'transaction_number_by_till'], how='left')"
   ]
  },
  {
   "cell_type": "code",
   "execution_count": 141,
   "metadata": {},
   "outputs": [
    {
     "data": {
      "text/html": [
       "<div>\n",
       "<style>\n",
       "    .dataframe thead tr:only-child th {\n",
       "        text-align: right;\n",
       "    }\n",
       "\n",
       "    .dataframe thead th {\n",
       "        text-align: left;\n",
       "    }\n",
       "\n",
       "    .dataframe tbody tr th {\n",
       "        vertical-align: top;\n",
       "    }\n",
       "</style>\n",
       "<table border=\"1\" class=\"dataframe\">\n",
       "  <thead>\n",
       "    <tr style=\"text-align: right;\">\n",
       "      <th></th>\n",
       "      <th>customerID</th>\n",
       "      <th>DOB_x</th>\n",
       "      <th>Gender_x</th>\n",
       "      <th>State_x</th>\n",
       "      <th>PinCode_x</th>\n",
       "      <th>transactionDate</th>\n",
       "      <th>store_code</th>\n",
       "      <th>store_description_x</th>\n",
       "      <th>till_no</th>\n",
       "      <th>transaction_number_by_till</th>\n",
       "      <th>...</th>\n",
       "      <th>sale_price_after_promo</th>\n",
       "      <th>discountUsed</th>\n",
       "      <th>DOB_y</th>\n",
       "      <th>Gender_y</th>\n",
       "      <th>State_y</th>\n",
       "      <th>PinCode_y</th>\n",
       "      <th>store_description_y</th>\n",
       "      <th>tender_type</th>\n",
       "      <th>payment_amount_by_tender</th>\n",
       "      <th>PaymentUsed</th>\n",
       "    </tr>\n",
       "  </thead>\n",
       "  <tbody>\n",
       "    <tr>\n",
       "      <th>0</th>\n",
       "      <td>BBID_20482</td>\n",
       "      <td>1975-10-20</td>\n",
       "      <td>male</td>\n",
       "      <td>MADHYA PRADESH</td>\n",
       "      <td>453441.0</td>\n",
       "      <td>2016-05-01</td>\n",
       "      <td>2655</td>\n",
       "      <td>BB-INDORE-MALHAR MEGA MALL</td>\n",
       "      <td>2</td>\n",
       "      <td>85246</td>\n",
       "      <td>...</td>\n",
       "      <td>55.00</td>\n",
       "      <td>Payback</td>\n",
       "      <td>1975-10-20</td>\n",
       "      <td>male</td>\n",
       "      <td>MADHYA PRADESH</td>\n",
       "      <td>453441.0</td>\n",
       "      <td>BB-INDORE-MALHAR MEGA MALL</td>\n",
       "      <td>EDCUBI</td>\n",
       "      <td>65.00</td>\n",
       "      <td>UBI CREDIT CARD</td>\n",
       "    </tr>\n",
       "    <tr>\n",
       "      <th>1</th>\n",
       "      <td>BBID_20485</td>\n",
       "      <td>1955-07-21</td>\n",
       "      <td>female</td>\n",
       "      <td>NaN</td>\n",
       "      <td>999999.0</td>\n",
       "      <td>2017-03-09</td>\n",
       "      <td>2655</td>\n",
       "      <td>BB-INDORE-MALHAR MEGA MALL</td>\n",
       "      <td>8</td>\n",
       "      <td>78829</td>\n",
       "      <td>...</td>\n",
       "      <td>30.00</td>\n",
       "      <td>Payback</td>\n",
       "      <td>NaN</td>\n",
       "      <td>NaN</td>\n",
       "      <td>NaN</td>\n",
       "      <td>NaN</td>\n",
       "      <td>NaN</td>\n",
       "      <td>NaN</td>\n",
       "      <td>NaN</td>\n",
       "      <td>NaN</td>\n",
       "    </tr>\n",
       "    <tr>\n",
       "      <th>2</th>\n",
       "      <td>BBID_20498</td>\n",
       "      <td>1981-03-19</td>\n",
       "      <td>female</td>\n",
       "      <td>MAHARASHTRA</td>\n",
       "      <td>400064.0</td>\n",
       "      <td>2015-08-12</td>\n",
       "      <td>2655</td>\n",
       "      <td>BB-INDORE-MALHAR MEGA MALL</td>\n",
       "      <td>13</td>\n",
       "      <td>1064</td>\n",
       "      <td>...</td>\n",
       "      <td>418.95</td>\n",
       "      <td>Payback</td>\n",
       "      <td>1981-03-19</td>\n",
       "      <td>female</td>\n",
       "      <td>MAHARASHTRA</td>\n",
       "      <td>400064.0</td>\n",
       "      <td>BB-INDORE-MALHAR MEGA MALL</td>\n",
       "      <td>CASH</td>\n",
       "      <td>768.45</td>\n",
       "      <td>CASH</td>\n",
       "    </tr>\n",
       "    <tr>\n",
       "      <th>3</th>\n",
       "      <td>BBID_20499</td>\n",
       "      <td>1986-05-10</td>\n",
       "      <td>male</td>\n",
       "      <td>MAHARASHTRA</td>\n",
       "      <td>400099.0</td>\n",
       "      <td>2016-12-18</td>\n",
       "      <td>2615</td>\n",
       "      <td>BB-AMRITSAR-TRILIUM MALL</td>\n",
       "      <td>14</td>\n",
       "      <td>51080</td>\n",
       "      <td>...</td>\n",
       "      <td>70.00</td>\n",
       "      <td>Payback</td>\n",
       "      <td>1986-05-10</td>\n",
       "      <td>male</td>\n",
       "      <td>MAHARASHTRA</td>\n",
       "      <td>400099.0</td>\n",
       "      <td>BB-AMRITSAR-TRILIUM MALL</td>\n",
       "      <td>MOBI</td>\n",
       "      <td>1701.24</td>\n",
       "      <td>One MobiKwik Systems</td>\n",
       "    </tr>\n",
       "    <tr>\n",
       "      <th>4</th>\n",
       "      <td>BBID_204110</td>\n",
       "      <td>1988-02-29</td>\n",
       "      <td>male</td>\n",
       "      <td>MADHYA PRADESH</td>\n",
       "      <td>474001.0</td>\n",
       "      <td>2015-12-31</td>\n",
       "      <td>2655</td>\n",
       "      <td>BB-INDORE-MALHAR MEGA MALL</td>\n",
       "      <td>9</td>\n",
       "      <td>21911</td>\n",
       "      <td>...</td>\n",
       "      <td>34.20</td>\n",
       "      <td>Payback</td>\n",
       "      <td>1988-02-29</td>\n",
       "      <td>male</td>\n",
       "      <td>MADHYA PRADESH</td>\n",
       "      <td>474001.0</td>\n",
       "      <td>BB-INDORE-MALHAR MEGA MALL</td>\n",
       "      <td>CASH</td>\n",
       "      <td>224.89</td>\n",
       "      <td>CASH</td>\n",
       "    </tr>\n",
       "  </tbody>\n",
       "</table>\n",
       "<p>5 rows × 24 columns</p>\n",
       "</div>"
      ],
      "text/plain": [
       "    customerID       DOB_x Gender_x         State_x  PinCode_x  \\\n",
       "0   BBID_20482  1975-10-20     male  MADHYA PRADESH   453441.0   \n",
       "1   BBID_20485  1955-07-21   female             NaN   999999.0   \n",
       "2   BBID_20498  1981-03-19   female     MAHARASHTRA   400064.0   \n",
       "3   BBID_20499  1986-05-10     male     MAHARASHTRA   400099.0   \n",
       "4  BBID_204110  1988-02-29     male  MADHYA PRADESH   474001.0   \n",
       "\n",
       "  transactionDate  store_code         store_description_x  till_no  \\\n",
       "0      2016-05-01        2655  BB-INDORE-MALHAR MEGA MALL        2   \n",
       "1      2017-03-09        2655  BB-INDORE-MALHAR MEGA MALL        8   \n",
       "2      2015-08-12        2655  BB-INDORE-MALHAR MEGA MALL       13   \n",
       "3      2016-12-18        2615    BB-AMRITSAR-TRILIUM MALL       14   \n",
       "4      2015-12-31        2655  BB-INDORE-MALHAR MEGA MALL        9   \n",
       "\n",
       "   transaction_number_by_till          ...          sale_price_after_promo  \\\n",
       "0                       85246          ...                           55.00   \n",
       "1                       78829          ...                           30.00   \n",
       "2                        1064          ...                          418.95   \n",
       "3                       51080          ...                           70.00   \n",
       "4                       21911          ...                           34.20   \n",
       "\n",
       "  discountUsed       DOB_y Gender_y         State_y PinCode_y  \\\n",
       "0      Payback  1975-10-20     male  MADHYA PRADESH  453441.0   \n",
       "1      Payback         NaN      NaN             NaN       NaN   \n",
       "2      Payback  1981-03-19   female     MAHARASHTRA  400064.0   \n",
       "3      Payback  1986-05-10     male     MAHARASHTRA  400099.0   \n",
       "4      Payback  1988-02-29     male  MADHYA PRADESH  474001.0   \n",
       "\n",
       "          store_description_y tender_type payment_amount_by_tender  \\\n",
       "0  BB-INDORE-MALHAR MEGA MALL      EDCUBI                    65.00   \n",
       "1                         NaN         NaN                      NaN   \n",
       "2  BB-INDORE-MALHAR MEGA MALL        CASH                   768.45   \n",
       "3    BB-AMRITSAR-TRILIUM MALL        MOBI                  1701.24   \n",
       "4  BB-INDORE-MALHAR MEGA MALL        CASH                   224.89   \n",
       "\n",
       "            PaymentUsed  \n",
       "0       UBI CREDIT CARD  \n",
       "1                   NaN  \n",
       "2                  CASH  \n",
       "3  One MobiKwik Systems  \n",
       "4                  CASH  \n",
       "\n",
       "[5 rows x 24 columns]"
      ]
     },
     "execution_count": 141,
     "metadata": {},
     "output_type": "execute_result"
    }
   ],
   "source": [
    "products_tender.head()"
   ]
  },
  {
   "cell_type": "code",
   "execution_count": 142,
   "metadata": {},
   "outputs": [
    {
     "data": {
      "text/plain": [
       "((15605, 24), (11972, 16), (149752, 13))"
      ]
     },
     "execution_count": 142,
     "metadata": {},
     "output_type": "execute_result"
    }
   ],
   "source": [
    "products_tender.shape, products.shape, tender.shape"
   ]
  },
  {
   "cell_type": "code",
   "execution_count": 129,
   "metadata": {},
   "outputs": [
    {
     "data": {
      "text/plain": [
       "MADHYA PRADESH        3064\n",
       "KARNATAKA             2373\n",
       "JHARKHAND             1554\n",
       "TAMIL NADU            1302\n",
       "PUNJAB                1156\n",
       "MAHARASHTRA            174\n",
       "TAMILNADU              146\n",
       "WEST BENGAL            106\n",
       "UTTAR PRADESH          104\n",
       "DELHI                   60\n",
       "BIHAR                   49\n",
       "ORISSA                  47\n",
       "ANDHRA PRADESH          44\n",
       "GUJARAT                 35\n",
       "RAJASTHAN               32\n",
       "CHATTISGARH             26\n",
       "HARYANA                 23\n",
       "KERALA                  20\n",
       "HARAYANA                14\n",
       "x                        9\n",
       "GOA                      9\n",
       "DUMMY                    9\n",
       "HIMACHAL PRADESH         6\n",
       "ASSAM                    5\n",
       "UTTARANCHAL              4\n",
       "CHANDIGARH               3\n",
       "JAMMU AND KASHMIR        2\n",
       "MADHYA  PRADESH          2\n",
       "Jharkhand                2\n",
       "CHHATTISGARH             2\n",
       "Other                    1\n",
       "KARNATAK                 1\n",
       "TRIPURA                  1\n",
       "MANIPUR                  1\n",
       "UTTAR PRADESH EAST       1\n",
       "MP                       1\n",
       "SIKKIM                   1\n",
       "Name: State, dtype: int64"
      ]
     },
     "execution_count": 129,
     "metadata": {},
     "output_type": "execute_result"
    }
   ],
   "source": [
    "products['State'].value_counts()"
   ]
  },
  {
   "cell_type": "code",
   "execution_count": 145,
   "metadata": {},
   "outputs": [
    {
     "data": {
      "text/plain": [
       "452001.0    1636\n",
       "580030.0     625\n",
       "143001.0     584\n",
       "999999.0     519\n",
       "452010.0     437\n",
       "625016.0     369\n",
       "580024.0     283\n",
       "831012.0     275\n",
       "141001.0     268\n",
       "625010.0     230\n",
       "831001.0     172\n",
       "831018.0     146\n",
       "580020.0     146\n",
       "580031.0     138\n",
       "831005.0     133\n",
       "580023.0     125\n",
       "831011.0     118\n",
       "580028.0     100\n",
       "580032.0      95\n",
       "452016.0      93\n",
       "625018.0      91\n",
       "831004.0      89\n",
       "452009.0      89\n",
       "580021.0      87\n",
       "625001.0      86\n",
       "832110.0      86\n",
       "625003.0      70\n",
       "831009.0      67\n",
       "452018.0      63\n",
       "580029.0      62\n",
       "            ... \n",
       "582900.0       1\n",
       "122015.0       1\n",
       "600050.0       1\n",
       "600049.0       1\n",
       "600045.0       1\n",
       "600044.0       1\n",
       "600041.0       1\n",
       "600040.0       1\n",
       "600033.0       1\n",
       "300014.0       1\n",
       "600023.0       1\n",
       "600020.0       1\n",
       "600018.0       1\n",
       "600014.0       1\n",
       "813003.0       1\n",
       "472018.0       1\n",
       "567201.0       1\n",
       "390020.0       1\n",
       "390008.0       1\n",
       "390007.0       1\n",
       "590012.0       1\n",
       "583326.0       1\n",
       "960091.0       1\n",
       "583232.0       1\n",
       "470117.0       1\n",
       "583121.0       1\n",
       "422605.0       1\n",
       "583028.0       1\n",
       "583003.0       1\n",
       "442401.0       1\n",
       "Name: PinCode, Length: 1353, dtype: int64"
      ]
     },
     "execution_count": 145,
     "metadata": {},
     "output_type": "execute_result"
    }
   ],
   "source": [
    "products['PinCode'].value_counts()"
   ]
  },
  {
   "cell_type": "code",
   "execution_count": 146,
   "metadata": {},
   "outputs": [
    {
     "data": {
      "text/plain": [
       "7     978\n",
       "6     892\n",
       "9     809\n",
       "11    806\n",
       "4     797\n",
       "5     763\n",
       "3     686\n",
       "13    672\n",
       "14    649\n",
       "2     636\n",
       "10    556\n",
       "8     553\n",
       "1     552\n",
       "12    392\n",
       "22    363\n",
       "18    347\n",
       "15    301\n",
       "17    301\n",
       "16    277\n",
       "19    253\n",
       "23    176\n",
       "20    103\n",
       "25     91\n",
       "21     17\n",
       "24      2\n",
       "Name: till_no, dtype: int64"
      ]
     },
     "execution_count": 146,
     "metadata": {},
     "output_type": "execute_result"
    }
   ],
   "source": [
    "products['till_no'].value_counts()"
   ]
  },
  {
   "cell_type": "code",
   "execution_count": 148,
   "metadata": {},
   "outputs": [
    {
     "data": {
      "text/plain": [
       "11127"
      ]
     },
     "execution_count": 148,
     "metadata": {},
     "output_type": "execute_result"
    }
   ],
   "source": [
    "products['transaction_number_by_till'].value_counts().count()"
   ]
  },
  {
   "cell_type": "code",
   "execution_count": 150,
   "metadata": {},
   "outputs": [
    {
     "data": {
      "text/plain": [
       "2214"
      ]
     },
     "execution_count": 150,
     "metadata": {},
     "output_type": "execute_result"
    }
   ],
   "source": [
    "products['promo_code'].value_counts().count()"
   ]
  },
  {
   "cell_type": "code",
   "execution_count": 152,
   "metadata": {},
   "outputs": [
    {
     "data": {
      "text/plain": [
       "6000"
      ]
     },
     "execution_count": 152,
     "metadata": {},
     "output_type": "execute_result"
    }
   ],
   "source": [
    "products['product_code'].value_counts().count()"
   ]
  },
  {
   "cell_type": "code",
   "execution_count": 153,
   "metadata": {},
   "outputs": [
    {
     "data": {
      "text/plain": [
       "Payback                                             6683\n",
       "T24Club,Payback                                     2085\n",
       "BBProfitClub                                         998\n",
       "BBProfitClub,Payback                                 538\n",
       "FGShoppingFest                                       386\n",
       "T24Club,BBProfitClub,Payback                         351\n",
       "BBSavingsClub                                        239\n",
       "T24Club,BBProfitClub                                 169\n",
       "FGShoppingFest,Payback                               158\n",
       "BBSavingsClub,Payback                                107\n",
       "FGShoppingFest,T24Club,Payback                       104\n",
       "FGShoppingFest,T24Club                                50\n",
       "BBSavingsClub,T24Club,Payback                         17\n",
       "BBSavingsClub,T24Club                                 16\n",
       "FGShoppingFest,BBProfitClub                           13\n",
       "FGShoppingFest,T24Club,BBProfitClub,Payback           13\n",
       "BBSavingsClub,BBProfitClub                            11\n",
       "FGShoppingFest,BBProfitClub,Payback                    6\n",
       "BBSavingsClub,BBProfitClub,Payback                     5\n",
       "FuturePrivilegeClub,BBProfitClub                       5\n",
       "BBSavingsClub,T24Club,BBProfitClub,Payback             5\n",
       "FuturePrivilegeClub,T24Club,BBProfitClub               3\n",
       "FGShoppingFest,T24Club,BBProfitClub                    3\n",
       "FuturePrivilegeClub,Payback                            2\n",
       "BBSavingsClub,T24Club,BBProfitClub                     2\n",
       "FuturePrivilegeClub,T24Club,BBProfitClub,Payback       1\n",
       "FuturePrivilegeClub,FGShoppingFest                     1\n",
       "FuturePrivilegeClub,T24Club,Payback                    1\n",
       "Name: discountUsed, dtype: int64"
      ]
     },
     "execution_count": 153,
     "metadata": {},
     "output_type": "execute_result"
    }
   ],
   "source": [
    "products['discountUsed'].value_counts()"
   ]
  },
  {
   "cell_type": "code",
   "execution_count": null,
   "metadata": {
    "collapsed": true
   },
   "outputs": [],
   "source": []
  }
 ],
 "metadata": {
  "kernelspec": {
   "display_name": "Python 3",
   "language": "python",
   "name": "python3"
  },
  "language_info": {
   "codemirror_mode": {
    "name": "ipython",
    "version": 3
   },
   "file_extension": ".py",
   "mimetype": "text/x-python",
   "name": "python",
   "nbconvert_exporter": "python",
   "pygments_lexer": "ipython3",
   "version": "3.7.0"
  }
 },
 "nbformat": 4,
 "nbformat_minor": 2
}
