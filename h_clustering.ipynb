{
 "cells": [
  {
   "cell_type": "code",
   "execution_count": 1,
   "metadata": {
    "collapsed": true
   },
   "outputs": [],
   "source": [
    "# hierarchical clustering "
   ]
  },
  {
   "cell_type": "code",
   "execution_count": 2,
   "metadata": {
    "collapsed": true
   },
   "outputs": [],
   "source": [
    "import pandas as pd\n",
    "import numpy as np\n",
    "np.random.seed(27)\n",
    "\n",
    "from scipy.cluster.hierarchy import dendrogram, linkage, cophenet, fcluster\n",
    "from scipy.spatial.distance import pdist\n",
    "\n",
    "from sklearn.preprocessing import RobustScaler, StandardScaler\n",
    "\n",
    "import matplotlib.pyplot as plt\n",
    "%matplotlib inline"
   ]
  },
  {
   "cell_type": "code",
   "execution_count": 3,
   "metadata": {
    "collapsed": true
   },
   "outputs": [],
   "source": [
    "stores = [3692, 2655, 4986, 2906, 2615, 4843, 4796]\n",
    "cluster_labels = []\n",
    "cluster_store = []\n",
    "cluster_data = []\n",
    "cluster_customers = []\n",
    "cluster_score = []"
   ]
  },
  {
   "cell_type": "code",
   "execution_count": 5,
   "metadata": {
    "collapsed": true
   },
   "outputs": [],
   "source": [
    "cluster_labels = []\n",
    "cluster_store = []\n",
    "cluster_data = []\n",
    "cluster_customers = []\n",
    "cluster_score = []\n",
    "for store in stores:\n",
    "\n",
    "    \n",
    "    profiles = pd.read_csv('store_' + str(store) + '.csv')\n",
    "\n",
    "    cluster_customers.append(profiles['customerID'])\n",
    "    profiles.drop('customerID', axis=1, inplace=True)\n",
    "    \n",
    "    rbs = RobustScaler()\n",
    "    cld = rbs.fit_transform(profiles)\n",
    "    print '0'\n",
    "    Z = linkage(cld, 'ward')\n",
    "    print '1'\n",
    "    c, coph_dists = cophenet(Z, pdist(cld))\n",
    "    print '2'\n",
    "    print c\n",
    "    \n",
    "    plt.figure(figsize=(25, 10))\n",
    "    plt.title('Hierarchical Clustering Dendrogram')\n",
    "    plt.xlabel('index')\n",
    "    plt.ylabel('distance')\n",
    "    dendrogram(\n",
    "        Z,\n",
    "        leaf_rotation=90.,  # rotates the x axis labels\n",
    "        leaf_font_size=8.,  # font size for the x axis labels\n",
    "    )\n",
    "    plt.show()\n",
    "    break"
   ]
  },
  {
   "cell_type": "code",
   "execution_count": 4,
   "metadata": {},
   "outputs": [
    {
     "name": "stdout",
     "output_type": "stream",
     "text": [
      "0\n",
      "1\n",
      "Wall time: 2min 8s\n"
     ]
    }
   ],
   "source": [
    "%%time\n",
    "store = 2906\n",
    "profiles = pd.read_csv('store_' + str(store) + '.csv')\n",
    "\n",
    "cluster_customers.append(profiles['customerID'])\n",
    "profiles.drop('customerID', axis=1, inplace=True)\n",
    "\n",
    "rbs = RobustScaler()\n",
    "cld = rbs.fit_transform(profiles)\n",
    "print '0'\n",
    "Z_2906 = linkage(cld, 'ward')\n",
    "print '1'\n",
    "'''\n",
    "plt.figure(figsize=(25, 10))\n",
    "plt.title('Hierarchical Clustering Dendrogram')\n",
    "plt.xlabel('index')\n",
    "plt.ylabel('distance')\n",
    "dendrogram(\n",
    "    Z,\n",
    "    leaf_rotation=90.,  # rotates the x axis labels\n",
    "    leaf_font_size=8.,  # font size for the x axis labels\n",
    ")\n",
    "plt.show()'''"
   ]
  },
  {
   "cell_type": "code",
   "execution_count": 5,
   "metadata": {},
   "outputs": [
    {
     "name": "stdout",
     "output_type": "stream",
     "text": [
      "0\n",
      "1\n",
      "Wall time: 6.92 s\n"
     ]
    }
   ],
   "source": [
    "%%time\n",
    "store = 3692\n",
    "profiles = pd.read_csv('store_' + str(store) + '.csv')\n",
    "\n",
    "#cluster_customers.append(profiles['customerID'])\n",
    "profiles.drop('customerID', axis=1, inplace=True)\n",
    "\n",
    "rbs = RobustScaler()\n",
    "cld = rbs.fit_transform(profiles)\n",
    "print '0'\n",
    "Z_3692 = linkage(cld, 'ward')\n",
    "print '1'"
   ]
  },
  {
   "cell_type": "code",
   "execution_count": 6,
   "metadata": {},
   "outputs": [
    {
     "name": "stdout",
     "output_type": "stream",
     "text": [
      "0\n",
      "1\n",
      "Wall time: 28.1 s\n"
     ]
    }
   ],
   "source": [
    "%%time\n",
    "store = 4986\n",
    "profiles = pd.read_csv('store_' + str(store) + '.csv')\n",
    "\n",
    "cluster_customers.append(profiles['customerID'])\n",
    "profiles.drop('customerID', axis=1, inplace=True)\n",
    "\n",
    "rbs = RobustScaler()\n",
    "cld = rbs.fit_transform(profiles)\n",
    "print '0'\n",
    "Z_4986 = linkage(cld, 'ward')\n",
    "print '1'"
   ]
  },
  {
   "cell_type": "code",
   "execution_count": 7,
   "metadata": {},
   "outputs": [
    {
     "name": "stdout",
     "output_type": "stream",
     "text": [
      "0\n",
      "1\n",
      "Wall time: 8.48 s\n"
     ]
    }
   ],
   "source": [
    "%%time\n",
    "store = 2615\n",
    "profiles = pd.read_csv('store_' + str(store) + '.csv')\n",
    "\n",
    "cluster_customers.append(profiles['customerID'])\n",
    "profiles.drop('customerID', axis=1, inplace=True)\n",
    "\n",
    "rbs = RobustScaler()\n",
    "cld = rbs.fit_transform(profiles)\n",
    "print '0'\n",
    "Z_2615 = linkage(cld, 'ward')\n",
    "print '1'"
   ]
  },
  {
   "cell_type": "code",
   "execution_count": 8,
   "metadata": {},
   "outputs": [
    {
     "name": "stdout",
     "output_type": "stream",
     "text": [
      "0\n",
      "1\n",
      "Wall time: 1min 15s\n"
     ]
    }
   ],
   "source": [
    "%%time\n",
    "store = 4843\n",
    "profiles = pd.read_csv('store_' + str(store) + '.csv')\n",
    "\n",
    "cluster_customers.append(profiles['customerID'])\n",
    "profiles.drop('customerID', axis=1, inplace=True)\n",
    "\n",
    "rbs = RobustScaler()\n",
    "cld = rbs.fit_transform(profiles)\n",
    "print '0'\n",
    "Z_4843 = linkage(cld, 'ward')\n",
    "print '1'"
   ]
  },
  {
   "cell_type": "code",
   "execution_count": 9,
   "metadata": {},
   "outputs": [
    {
     "name": "stdout",
     "output_type": "stream",
     "text": [
      "0\n",
      "1\n",
      "Wall time: 1min 47s\n"
     ]
    }
   ],
   "source": [
    "%%time\n",
    "store = 4796\n",
    "profiles = pd.read_csv('store_' + str(store) + '.csv')\n",
    "\n",
    "cluster_customers.append(profiles['customerID'])\n",
    "profiles.drop('customerID', axis=1, inplace=True)\n",
    "\n",
    "rbs = RobustScaler()\n",
    "cld = rbs.fit_transform(profiles)\n",
    "print '0'\n",
    "Z_4796 = linkage(cld, 'ward')\n",
    "print '1'"
   ]
  },
  {
   "cell_type": "code",
   "execution_count": 10,
   "metadata": {},
   "outputs": [
    {
     "name": "stdout",
     "output_type": "stream",
     "text": [
      "0\n",
      "1\n",
      "Wall time: 14min 30s\n"
     ]
    }
   ],
   "source": [
    "%%time\n",
    "store = 2655\n",
    "profiles = pd.read_csv('store_' + str(store) + '.csv')\n",
    "\n",
    "cluster_customers.append(profiles['customerID'])\n",
    "profiles.drop('customerID', axis=1, inplace=True)\n",
    "\n",
    "rbs = RobustScaler()\n",
    "cld = rbs.fit_transform(profiles)\n",
    "print '0'\n",
    "Z_2655 = linkage(cld, 'ward')\n",
    "print '1'"
   ]
  },
  {
   "cell_type": "code",
   "execution_count": 22,
   "metadata": {
    "collapsed": true
   },
   "outputs": [],
   "source": [
    "def fancy_dendrogram(*args, **kwargs):\n",
    "    max_d = kwargs.pop('max_d', None)\n",
    "    if max_d and 'color_threshold' not in kwargs:\n",
    "        kwargs['color_threshold'] = max_d\n",
    "    annotate_above = kwargs.pop('annotate_above', 0)\n",
    "\n",
    "    ddata = dendrogram(*args, **kwargs)\n",
    "\n",
    "    if not kwargs.get('no_plot', False):\n",
    "        plt.title('Hierarchical Clustering Dendrogram (truncated)')\n",
    "        plt.xlabel('sample index or (cluster size)')\n",
    "        plt.ylabel('distance')\n",
    "        for i, d, c in zip(ddata['icoord'], ddata['dcoord'], ddata['color_list']):\n",
    "            x = 0.5 * sum(i[1:3])\n",
    "            y = d[1]\n",
    "            if y > annotate_above:\n",
    "                plt.plot(x, y, 'o', c=c)\n",
    "                plt.annotate(\"%.3g\" % y, (x, y), xytext=(0, -5),\n",
    "                             textcoords='offset points',\n",
    "                             va='top', ha='center')\n",
    "        if max_d:\n",
    "            plt.axhline(y=max_d, c='k')\n",
    "    return ddata"
   ]
  },
  {
   "cell_type": "code",
   "execution_count": 118,
   "metadata": {},
   "outputs": [
    {
     "data": {
      "image/png": "[encoded data removed]",
      "text/plain": [
       "<matplotlib.figure.Figure at 0x3b79c860>"
      ]
     },
     "metadata": {},
     "output_type": "display_data"
    }
   ],
   "source": [
    "max_d = 500\n",
    "fancy_dendrogram(\n",
    "    Z,\n",
    "    truncate_mode='lastp',\n",
    "    p=30,\n",
    "    leaf_rotation=90.,\n",
    "    leaf_font_size=12.,\n",
    "    #show_contracted=True,\n",
    "    annotate_above=10,\n",
    "    #max_d=max_d,  # plot a horizontal cut-off line\n",
    ")\n",
    "plt.show()"
   ]
  },
  {
   "cell_type": "code",
   "execution_count": 16,
   "metadata": {
    "collapsed": true
   },
   "outputs": [],
   "source": [
    "k=60\n",
    "res = list(fcluster(Z_2655, k, criterion='maxclust'))"
   ]
  },
  {
   "cell_type": "code",
   "execution_count": 17,
   "metadata": {},
   "outputs": [
    {
     "name": "stdout",
     "output_type": "stream",
     "text": [
      "1 918\n",
      "2 1\n",
      "3 25\n",
      "4 12\n",
      "5 6\n",
      "6 93\n",
      "7 207\n",
      "8 175\n",
      "9 3\n",
      "10 19\n",
      "11 242\n",
      "12 163\n",
      "13 522\n",
      "14 66\n",
      "15 4\n",
      "16 6\n",
      "17 1\n",
      "18 20\n",
      "19 20\n",
      "20 93\n",
      "21 147\n",
      "22 74\n",
      "23 573\n",
      "24 171\n",
      "25 90\n",
      "26 349\n",
      "27 684\n",
      "28 774\n",
      "29 1170\n",
      "30 81\n",
      "31 559\n",
      "32 2396\n",
      "33 573\n",
      "34 255\n",
      "35 17\n",
      "36 1085\n",
      "37 51\n",
      "38 1382\n",
      "39 2183\n",
      "40 451\n",
      "41 28251\n",
      "42 8\n",
      "43 3\n",
      "44 29\n",
      "45 8\n",
      "46 64\n",
      "47 340\n",
      "48 283\n",
      "49 705\n",
      "50 18\n",
      "51 166\n",
      "52 4\n",
      "53 34\n",
      "54 28\n",
      "55 120\n",
      "56 6\n",
      "57 33\n",
      "58 166\n",
      "59 14\n",
      "60 106\n"
     ]
    }
   ],
   "source": [
    "for i in range(1,61):\n",
    "    print i, res.count(i)"
   ]
  },
  {
   "cell_type": "code",
   "execution_count": 21,
   "metadata": {
    "collapsed": true
   },
   "outputs": [],
   "source": [
    "indices = [i for i, x in enumerate(res) if x == 29]"
   ]
  },
  {
   "cell_type": "code",
   "execution_count": 22,
   "metadata": {},
   "outputs": [
    {
     "data": {
      "text/plain": [
       "1170"
      ]
     },
     "execution_count": 22,
     "metadata": {},
     "output_type": "execute_result"
    }
   ],
   "source": [
    "len(indices)"
   ]
  },
  {
   "cell_type": "code",
   "execution_count": 23,
   "metadata": {},
   "outputs": [
    {
     "data": {
      "text/plain": [
       "Gender                                             0.744444\n",
       "BBProfitClub_sum                                   0.102564\n",
       "BBSavingsClub_sum                                  0.000000\n",
       "EldersClub_sum                                     0.000000\n",
       "FGShoppingFest_sum                                 0.246154\n",
       "Payback_sum                                       36.896581\n",
       "T24Club_sum                                        0.621368\n",
       "number_of_times_promo_used                         8.367521\n",
       "home_needs_sum                                     3.355556\n",
       "groceries_sum                                     15.032479\n",
       "fruits_and_vegetables_sum                          5.403419\n",
       "beverages_sum                                      0.759829\n",
       "dairy_and_bread_sum                                0.784615\n",
       "baby_care_sum                                      0.194017\n",
       "personal_care_sum                                  3.252137\n",
       "female_sanitary_needs_sum                          0.176923\n",
       "men_shaving_needs_sum                              0.124786\n",
       "kids_items                                         1.526496\n",
       "clothes_and_others_sum                             6.520513\n",
       "age                                               33.470940\n",
       "from_different_state                               0.749573\n",
       "total_number_of_customers_from_this_pincode       20.641880\n",
       "avg_sale_price_after_promo                       152.879684\n",
       "number_of_purchases                              635.594872\n",
       "number_of_purchases_by customer                   37.130769\n",
       "avg_purchase_amount                              175.269066\n",
       "customers_mean_purchase_amount_part_in_area      115.372946\n",
       "customers_mean_number_purchase_part_in_area        6.078581\n",
       "number_of_months_customer_shopped                  2.447009\n",
       "mean_number_of_times_customer_shops_per_month     15.557707\n",
       "                                                    ...    \n",
       "hindu                                              0.964103\n",
       "islam                                              0.016239\n",
       "christian                                          0.005128\n",
       "sikh                                               0.014530\n",
       "CASH                                               1.100855\n",
       "PCLB                                               0.020513\n",
       "EDCUBI                                             0.312821\n",
       "EDCSBI                                             0.334188\n",
       "EDCHDFC                                            0.364103\n",
       "EDCICICI                                           0.259829\n",
       "EDCAXIS                                            0.380342\n",
       "PYOC                                               0.175214\n",
       "GVOWN                                              0.028205\n",
       "FUTP                                               0.041880\n",
       "FGSC                                               0.002564\n",
       "CSBK                                               0.055556\n",
       "MVSODEXHO                                          0.026496\n",
       "CR_NOTE_I                                          0.029060\n",
       "CR_NOTE_R                                          0.023077\n",
       "PARKCOUP                                           0.032479\n",
       "CASH_CASHrency                                     0.011111\n",
       "MOBI                                               0.006838\n",
       "PATM                                               0.013675\n",
       "five_Debit_Card_Disc                               0.014530\n",
       "EDCUTI                                             0.005983\n",
       "EDCAMEX                                            0.017949\n",
       "GVSUPP                                             0.005983\n",
       "SPCD                                               0.003419\n",
       "CHEQUE                                             0.000855\n",
       "Other_payment_options                              0.020513\n",
       "Length: 62, dtype: float64"
      ]
     },
     "execution_count": 23,
     "metadata": {},
     "output_type": "execute_result"
    }
   ],
   "source": [
    "profiles.iloc[indices].mean(axis=0)"
   ]
  },
  {
   "cell_type": "code",
   "execution_count": 151,
   "metadata": {
    "scrolled": true
   },
   "outputs": [
    {
     "data": {
      "text/plain": [
       "Gender                                                0.832117\n",
       "BBProfitClub_sum                                    162.131387\n",
       "BBSavingsClub_sum                                     0.000000\n",
       "EldersClub_sum                                        0.000000\n",
       "FGShoppingFest_sum                                    0.000000\n",
       "Payback_sum                                          62.131387\n",
       "T24Club_sum                                           2.788321\n",
       "number_of_times_promo_used                           50.277372\n",
       "home_needs_sum                                       13.452555\n",
       "groceries_sum                                        83.642336\n",
       "fruits_and_vegetables_sum                            22.372263\n",
       "beverages_sum                                         6.218978\n",
       "dairy_and_bread_sum                                   3.065693\n",
       "baby_care_sum                                         0.481752\n",
       "personal_care_sum                                    10.897810\n",
       "female_sanitary_needs_sum                             0.321168\n",
       "men_shaving_needs_sum                                 0.218978\n",
       "kids_items                                            5.642336\n",
       "clothes_and_others_sum                               15.817518\n",
       "age                                                  46.496350\n",
       "from_different_state                                  0.021898\n",
       "total_number_of_customers_from_this_pincode        2542.729927\n",
       "avg_sale_price_after_promo                          156.761070\n",
       "number_of_purchases                              121976.664234\n",
       "number_of_purchases_by customer                     162.131387\n",
       "avg_purchase_amount                                 128.646487\n",
       "customers_mean_purchase_amount_part_in_area          81.993146\n",
       "customers_mean_number_purchase_part_in_area           1.942005\n",
       "number_of_months_customer_shopped                     8.562044\n",
       "mean_number_of_times_customer_shops_per_month        21.964834\n",
       "                                                     ...      \n",
       "hindu                                                 0.839416\n",
       "islam                                                 0.014599\n",
       "christian                                             0.007299\n",
       "sikh                                                  0.138686\n",
       "CASH                                                  5.525547\n",
       "PCLB                                                 11.065693\n",
       "EDCUBI                                                0.138686\n",
       "EDCSBI                                                0.065693\n",
       "EDCHDFC                                               1.321168\n",
       "EDCICICI                                              0.861314\n",
       "EDCAXIS                                               0.000000\n",
       "PYOC                                                  0.204380\n",
       "GVOWN                                                 0.510949\n",
       "FUTP                                                  0.124088\n",
       "FGSC                                                  0.000000\n",
       "CSBK                                                  0.051095\n",
       "MVSODEXHO                                             0.109489\n",
       "CR_NOTE_I                                             0.000000\n",
       "CR_NOTE_R                                             0.072993\n",
       "PARKCOUP                                              0.000000\n",
       "CASH_CASHrency                                        0.000000\n",
       "MOBI                                                  0.007299\n",
       "PATM                                                  0.029197\n",
       "five_Debit_Card_Disc                                  0.007299\n",
       "EDCUTI                                                0.000000\n",
       "EDCAMEX                                               0.000000\n",
       "GVSUPP                                                0.007299\n",
       "SPCD                                                  0.065693\n",
       "CHEQUE                                                0.007299\n",
       "Other_payment_options                                 0.007299\n",
       "Length: 62, dtype: float64"
      ]
     },
     "execution_count": 151,
     "metadata": {},
     "output_type": "execute_result"
    }
   ],
   "source": [
    "profiles.iloc[indices].mean(axis=0)"
   ]
  },
  {
   "cell_type": "code",
   "execution_count": 149,
   "metadata": {},
   "outputs": [
    {
     "data": {
      "text/plain": [
       "['Gender',\n",
       " 'BBProfitClub_sum',\n",
       " 'BBSavingsClub_sum',\n",
       " 'EldersClub_sum',\n",
       " 'FGShoppingFest_sum',\n",
       " 'Payback_sum',\n",
       " 'T24Club_sum',\n",
       " 'number_of_times_promo_used',\n",
       " 'home_needs_sum',\n",
       " 'groceries_sum',\n",
       " 'fruits_and_vegetables_sum',\n",
       " 'beverages_sum',\n",
       " 'dairy_and_bread_sum',\n",
       " 'baby_care_sum',\n",
       " 'personal_care_sum',\n",
       " 'female_sanitary_needs_sum',\n",
       " 'men_shaving_needs_sum',\n",
       " 'kids_items',\n",
       " 'clothes_and_others_sum',\n",
       " 'age',\n",
       " 'from_different_state',\n",
       " 'total_number_of_customers_from_this_pincode',\n",
       " 'avg_sale_price_after_promo',\n",
       " 'number_of_purchases',\n",
       " 'number_of_purchases_by customer',\n",
       " 'avg_purchase_amount',\n",
       " 'customers_mean_purchase_amount_part_in_area',\n",
       " 'customers_mean_number_purchase_part_in_area',\n",
       " 'number_of_months_customer_shopped',\n",
       " 'mean_number_of_times_customer_shops_per_month',\n",
       " 'is_married',\n",
       " 'have_kids',\n",
       " 'hindu',\n",
       " 'islam',\n",
       " 'christian',\n",
       " 'sikh',\n",
       " 'CASH',\n",
       " 'PCLB',\n",
       " 'EDCUBI',\n",
       " 'EDCSBI',\n",
       " 'EDCHDFC',\n",
       " 'EDCICICI',\n",
       " 'EDCAXIS',\n",
       " 'PYOC',\n",
       " 'GVOWN',\n",
       " 'FUTP',\n",
       " 'FGSC',\n",
       " 'CSBK',\n",
       " 'MVSODEXHO',\n",
       " 'CR_NOTE_I',\n",
       " 'CR_NOTE_R',\n",
       " 'PARKCOUP',\n",
       " 'CASH_CASHrency',\n",
       " 'MOBI',\n",
       " 'PATM',\n",
       " 'five_Debit_Card_Disc',\n",
       " 'EDCUTI',\n",
       " 'EDCAMEX',\n",
       " 'GVSUPP',\n",
       " 'SPCD',\n",
       " 'CHEQUE',\n",
       " 'Other_payment_options']"
      ]
     },
     "execution_count": 149,
     "metadata": {},
     "output_type": "execute_result"
    }
   ],
   "source": [
    "list(profiles.columns)"
   ]
  },
  {
   "cell_type": "code",
   "execution_count": null,
   "metadata": {
    "collapsed": true
   },
   "outputs": [],
   "source": []
  }
 ],
 "metadata": {
  "kernelspec": {
   "display_name": "Python 3",
   "language": "python",
   "name": "python3"
  },
  "language_info": {
   "codemirror_mode": {
    "name": "ipython",
    "version": 3
   },
   "file_extension": ".py",
   "mimetype": "text/x-python",
   "name": "python",
   "nbconvert_exporter": "python",
   "pygments_lexer": "ipython3",
   "version": "3.7.0"
  }
 },
 "nbformat": 4,
 "nbformat_minor": 2
}
